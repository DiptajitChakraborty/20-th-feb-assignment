{
 "cells": [
  {
   "cell_type": "code",
   "execution_count": 8,
   "id": "843977d1-92c6-4f3e-b7cd-7b5ea288a3ac",
   "metadata": {},
   "outputs": [],
   "source": [
    "#Q1\n",
    "#Ans:The GET method is part of the python requests module which is used to obtain data from a web URL.\n",
    "#The POST method is used to send data mostly through a form to the server for creating or updating data in the server. The requests module provides us with post method which can directly send the data by taking the URL and value of the data parameter.\n",
    "#Example of GET method\n",
    "# import requests\n",
    "\n",
    "# req = requests.get('http://www.tutorialspoint.com/')\n",
    "# e = req.encoding\n",
    "# print(\"Encoding: \",e)\n",
    "\n",
    "#Example of POST method\n",
    "# import requests\n",
    "# in_values = {'username':'Dipta','password':'JIT'}\n",
    "# res = requests.post('https://httpbin.org/post',data = in_values)\n",
    "# print(res.text)"
   ]
  },
  {
   "cell_type": "code",
   "execution_count": 9,
   "id": "e29124d5-ee3b-48dd-8f9f-af29b6d53277",
   "metadata": {},
   "outputs": [],
   "source": [
    "#Q2\n",
    "#Ans:To access the incoming data in Flask, we have to use the request object. The request object holds all incoming data from the request, which includes the mimetype, referrer, IP address, raw data, HTTP method, and headers, among other things.\n"
   ]
  },
  {
   "cell_type": "code",
   "execution_count": 10,
   "id": "2567e8a3-f627-4e5a-b96e-ea1a34e695d4",
   "metadata": {},
   "outputs": [],
   "source": [
    "#Q3\n",
    "#Ans:Redirection in Flask can be done by returning a redirect response object, created by invoking the redirect() function. The same method is used for redirecting to other routes on the same application and external websites."
   ]
  },
  {
   "cell_type": "code",
   "execution_count": 11,
   "id": "6c92ed5b-1aca-4e2d-a8a2-1433007bf2eb",
   "metadata": {},
   "outputs": [],
   "source": [
    "#Q4\n",
    "#Ans:Templates are files that contain static data as well as placeholders for dynamic data. A template is rendered with specific data to produce a final document. \n",
    "\n",
    "#render_template is used to generate output from a template file based on the Jinja2 engine that is found in the application's templates folder."
   ]
  },
  {
   "cell_type": "code",
   "execution_count": 12,
   "id": "6a88130e-c060-4877-bd60-66a6758eeec3",
   "metadata": {},
   "outputs": [],
   "source": [
    "#Q5\n",
    "#Ans:\n",
    "# from flask import Flask,request ,render_template , jsonify\n",
    "\n",
    "# app = Flask(__name__)\n",
    "\n",
    "\n",
    "# @app.route('/')\n",
    "# def home_page():\n",
    "#     return render_template('index.html')\n",
    "\n",
    "\n",
    "# @app.route('/math',methods=['POST'])\n",
    "# def math_ops():\n",
    "#     if(request.method == 'POST'):\n",
    "#         ops = request.form['operation']\n",
    "#         num1 = int(request.form['num1'])\n",
    "#         num2 = int(request.form['num2'])\n",
    "#         if ops == 'add':\n",
    "#             r = num1+num2\n",
    "#             result = \"The sum of \" + str(num1) + 'and ' + str(num2) + \"is \" + str(r)\n",
    "#         if ops == 'subtract':\n",
    "#             r = num1-num2\n",
    "#             result = \"The subtract of \" + str(num1) + 'and ' + str(num2) + \"is \" + str(r)\n",
    "#         if ops == 'multiply':\n",
    "#             r = num1*num2\n",
    "#             result = \"The multiply of \" + str(num1) + 'and ' + str(num2) + \"is \" + str(r)\n",
    "#         if ops == 'divide':\n",
    "#             r = num1/num2\n",
    "#             result = \"The divide of \" + str(num1) + 'and ' + str(num2) + \"is \" + str(r)\n",
    "            \n",
    "#         return render_template('results.html' , result = result)\n",
    "\n",
    "\n",
    "\n",
    "\n",
    "# @app.route('/postman_action',methods=['POST'])\n",
    "# def math_ops1():\n",
    "#     if(request.method == 'POST'):\n",
    "#         ops = request.json['operation']\n",
    "#         num1 = int(request.json['num1'])\n",
    "#         num2 = int(request.json['num2'])\n",
    "#         if ops == 'add':\n",
    "#             r = num1+num2\n",
    "#             result = \"The sum of \" + str(num1) + 'and ' + str(num2) + \"is \" + str(r)\n",
    "#         if ops == 'subtract':\n",
    "#             r = num1-num2\n",
    "#             result = \"The subtract of \" + str(num1) + 'and ' + str(num2) + \"is \" + str(r)\n",
    "#         if ops == 'multiply':\n",
    "#             r = num1*num2\n",
    "#             result = \"The multiply of \" + str(num1) + 'and ' + str(num2) + \"is \" + str(r)\n",
    "#         if ops == 'divide':\n",
    "#             r = num1/num2\n",
    "#             result = \"The divide of \" + str(num1) + 'and ' + str(num2) + \"is \" + str(r)\n",
    "            \n",
    "#         return jsonify(result)\n",
    "\n",
    "# if __name__==\"__main__\":\n",
    "#     app.run(host=\"0.0.0.0\")\n",
    "\n",
    "\n",
    "\n",
    "\n",
    "\n",
    "#OUTPUT\n",
    "# https://orange-pharmacist-bekjw.pwskills.app/files/work/Screenshot%20(193).png?_xsrf=2%7C4006b666%7C84e293721255d5b6e65503926153d409%7C1680414063\n",
    "# https://orange-pharmacist-bekjw.pwskills.app/files/work/Screenshot%20(192).png?_xsrf=2%7C4006b666%7C84e293721255d5b6e65503926153d409%7C1680414063\n"
   ]
  },
  {
   "cell_type": "code",
   "execution_count": null,
   "id": "263d64f8-67e8-478d-8925-e0ced47d3621",
   "metadata": {},
   "outputs": [],
   "source": []
  },
  {
   "cell_type": "code",
   "execution_count": null,
   "id": "92c3669c-6196-4c4d-9ede-a402fe207924",
   "metadata": {},
   "outputs": [],
   "source": []
  },
  {
   "cell_type": "code",
   "execution_count": null,
   "id": "27a81905-e984-4fa6-811c-4f912d64006e",
   "metadata": {},
   "outputs": [],
   "source": []
  }
 ],
 "metadata": {
  "kernelspec": {
   "display_name": "Python 3 (ipykernel)",
   "language": "python",
   "name": "python3"
  },
  "language_info": {
   "codemirror_mode": {
    "name": "ipython",
    "version": 3
   },
   "file_extension": ".py",
   "mimetype": "text/x-python",
   "name": "python",
   "nbconvert_exporter": "python",
   "pygments_lexer": "ipython3",
   "version": "3.10.8"
  }
 },
 "nbformat": 4,
 "nbformat_minor": 5
}
